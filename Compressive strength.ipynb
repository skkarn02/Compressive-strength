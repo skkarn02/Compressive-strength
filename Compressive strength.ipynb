{
 "cells": [
  {
   "cell_type": "markdown",
   "metadata": {},
   "source": [
    "#  EDA"
   ]
  },
  {
   "cell_type": "code",
   "execution_count": 1,
   "metadata": {},
   "outputs": [],
   "source": [
    "% matplotlib inline\n",
    "import pandas as pd\n",
    "CS=pd.read_csv('datasets/compresive_strength_concrete.csv')"
   ]
  },
  {
   "cell_type": "code",
   "execution_count": 2,
   "metadata": {},
   "outputs": [
    {
     "name": "stdout",
     "output_type": "stream",
     "text": [
      "   Cement (component 1)(kg in a m^3 mixture)  \\\n",
      "0                                      540.0   \n",
      "1                                      540.0   \n",
      "2                                      332.5   \n",
      "3                                      332.5   \n",
      "4                                      198.6   \n",
      "5                                      266.0   \n",
      "6                                      380.0   \n",
      "7                                      380.0   \n",
      "8                                      266.0   \n",
      "9                                      475.0   \n",
      "\n",
      "   Blast Furnace Slag (component 2)(kg in a m^3 mixture)  \\\n",
      "0                                                0.0       \n",
      "1                                                0.0       \n",
      "2                                              142.5       \n",
      "3                                              142.5       \n",
      "4                                              132.4       \n",
      "5                                              114.0       \n",
      "6                                               95.0       \n",
      "7                                               95.0       \n",
      "8                                              114.0       \n",
      "9                                                0.0       \n",
      "\n",
      "   Fly Ash (component 3)(kg in a m^3 mixture)  \\\n",
      "0                                         0.0   \n",
      "1                                         0.0   \n",
      "2                                         0.0   \n",
      "3                                         0.0   \n",
      "4                                         0.0   \n",
      "5                                         0.0   \n",
      "6                                         0.0   \n",
      "7                                         0.0   \n",
      "8                                         0.0   \n",
      "9                                         0.0   \n",
      "\n",
      "   Water  (component 4)(kg in a m^3 mixture)  \\\n",
      "0                                      162.0   \n",
      "1                                      162.0   \n",
      "2                                      228.0   \n",
      "3                                      228.0   \n",
      "4                                      192.0   \n",
      "5                                      228.0   \n",
      "6                                      228.0   \n",
      "7                                      228.0   \n",
      "8                                      228.0   \n",
      "9                                      228.0   \n",
      "\n",
      "   Superplasticizer (component 5)(kg in a m^3 mixture)  \\\n",
      "0                                                2.5     \n",
      "1                                                2.5     \n",
      "2                                                0.0     \n",
      "3                                                0.0     \n",
      "4                                                0.0     \n",
      "5                                                0.0     \n",
      "6                                                0.0     \n",
      "7                                                0.0     \n",
      "8                                                0.0     \n",
      "9                                                0.0     \n",
      "\n",
      "   Coarse Aggregate  (component 6)(kg in a m^3 mixture)  \\\n",
      "0                                             1040.0      \n",
      "1                                             1055.0      \n",
      "2                                              932.0      \n",
      "3                                              932.0      \n",
      "4                                              978.4      \n",
      "5                                              932.0      \n",
      "6                                              932.0      \n",
      "7                                              932.0      \n",
      "8                                              932.0      \n",
      "9                                              932.0      \n",
      "\n",
      "   Fine Aggregate (component 7)(kg in a m^3 mixture)  Age (day)  \\\n",
      "0                                              676.0         28   \n",
      "1                                              676.0         28   \n",
      "2                                              594.0        270   \n",
      "3                                              594.0        365   \n",
      "4                                              825.5        360   \n",
      "5                                              670.0         90   \n",
      "6                                              594.0        365   \n",
      "7                                              594.0         28   \n",
      "8                                              670.0         28   \n",
      "9                                              594.0         28   \n",
      "\n",
      "   Concrete compressive strength(MPa, megapascals)   \n",
      "0                                             79.99  \n",
      "1                                             61.89  \n",
      "2                                             40.27  \n",
      "3                                             41.05  \n",
      "4                                             44.30  \n",
      "5                                             47.03  \n",
      "6                                             43.70  \n",
      "7                                             36.45  \n",
      "8                                             45.85  \n",
      "9                                             39.29  \n"
     ]
    }
   ],
   "source": [
    "print(CS.head(10))"
   ]
  },
  {
   "cell_type": "code",
   "execution_count": 3,
   "metadata": {},
   "outputs": [
    {
     "name": "stdout",
     "output_type": "stream",
     "text": [
      "Index(['Cement (component 1)(kg in a m^3 mixture)',\n",
      "       'Blast Furnace Slag (component 2)(kg in a m^3 mixture)',\n",
      "       'Fly Ash (component 3)(kg in a m^3 mixture)',\n",
      "       'Water  (component 4)(kg in a m^3 mixture)',\n",
      "       'Superplasticizer (component 5)(kg in a m^3 mixture)',\n",
      "       'Coarse Aggregate  (component 6)(kg in a m^3 mixture)',\n",
      "       'Fine Aggregate (component 7)(kg in a m^3 mixture)', 'Age (day)',\n",
      "       'Concrete compressive strength(MPa, megapascals) '],\n",
      "      dtype='object')\n"
     ]
    }
   ],
   "source": [
    "print(CS.columns)"
   ]
  },
  {
   "cell_type": "markdown",
   "metadata": {},
   "source": [
    "It has very long column names which will be hard for us for doing further EDA as well as cleaning . So we will change column names to make it easy to  process"
   ]
  },
  {
   "cell_type": "code",
   "execution_count": 4,
   "metadata": {},
   "outputs": [],
   "source": [
    "CS.columns=['Cement','Blast_Furnace_Slag','Fly_Ash','Water','Superplasticizer','Coarse_Aggregate','Fine_Aggregate','Age_day','Concrete_compressive_strength']"
   ]
  },
  {
   "cell_type": "code",
   "execution_count": 5,
   "metadata": {},
   "outputs": [
    {
     "name": "stdout",
     "output_type": "stream",
     "text": [
      "   Cement  Blast_Furnace_Slag  Fly_Ash  Water  Superplasticizer  \\\n",
      "0   540.0                 0.0      0.0  162.0               2.5   \n",
      "1   540.0                 0.0      0.0  162.0               2.5   \n",
      "2   332.5               142.5      0.0  228.0               0.0   \n",
      "3   332.5               142.5      0.0  228.0               0.0   \n",
      "4   198.6               132.4      0.0  192.0               0.0   \n",
      "5   266.0               114.0      0.0  228.0               0.0   \n",
      "6   380.0                95.0      0.0  228.0               0.0   \n",
      "7   380.0                95.0      0.0  228.0               0.0   \n",
      "8   266.0               114.0      0.0  228.0               0.0   \n",
      "9   475.0                 0.0      0.0  228.0               0.0   \n",
      "\n",
      "   Coarse_Aggregate  Fine_Aggregate  Age_day  Concrete_compressive_strength  \n",
      "0            1040.0           676.0       28                          79.99  \n",
      "1            1055.0           676.0       28                          61.89  \n",
      "2             932.0           594.0      270                          40.27  \n",
      "3             932.0           594.0      365                          41.05  \n",
      "4             978.4           825.5      360                          44.30  \n",
      "5             932.0           670.0       90                          47.03  \n",
      "6             932.0           594.0      365                          43.70  \n",
      "7             932.0           594.0       28                          36.45  \n",
      "8             932.0           670.0       28                          45.85  \n",
      "9             932.0           594.0       28                          39.29  \n"
     ]
    }
   ],
   "source": [
    "print(CS.head(10))"
   ]
  },
  {
   "cell_type": "code",
   "execution_count": 6,
   "metadata": {},
   "outputs": [
    {
     "name": "stdout",
     "output_type": "stream",
     "text": [
      "(1030, 9)\n"
     ]
    }
   ],
   "source": [
    "print(CS.shape)"
   ]
  },
  {
   "cell_type": "code",
   "execution_count": 8,
   "metadata": {},
   "outputs": [
    {
     "name": "stdout",
     "output_type": "stream",
     "text": [
      "<class 'pandas.core.frame.DataFrame'>\n",
      "RangeIndex: 1030 entries, 0 to 1029\n",
      "Data columns (total 9 columns):\n",
      "Cement                           1030 non-null float64\n",
      "Blast_Furnace_Slag               1030 non-null float64\n",
      "Fly_Ash                          1030 non-null float64\n",
      "Water                            1030 non-null float64\n",
      "Superplasticizer                 1030 non-null float64\n",
      "Coarse_Aggregate                 1030 non-null float64\n",
      "Fine_Aggregate                   1030 non-null float64\n",
      "Age_day                          1030 non-null int64\n",
      "Concrete_compressive_strength    1030 non-null float64\n",
      "dtypes: float64(8), int64(1)\n",
      "memory usage: 72.5 KB\n",
      "None\n"
     ]
    }
   ],
   "source": [
    "print(CS.info())"
   ]
  },
  {
   "cell_type": "code",
   "execution_count": 9,
   "metadata": {},
   "outputs": [
    {
     "name": "stdout",
     "output_type": "stream",
     "text": [
      "Cement                           0\n",
      "Blast_Furnace_Slag               0\n",
      "Fly_Ash                          0\n",
      "Water                            0\n",
      "Superplasticizer                 0\n",
      "Coarse_Aggregate                 0\n",
      "Fine_Aggregate                   0\n",
      "Age_day                          0\n",
      "Concrete_compressive_strength    0\n",
      "dtype: int64\n"
     ]
    }
   ],
   "source": [
    "print(CS.isnull().sum())"
   ]
  },
  {
   "cell_type": "code",
   "execution_count": 11,
   "metadata": {},
   "outputs": [
    {
     "name": "stdout",
     "output_type": "stream",
     "text": [
      "            Cement  Blast_Furnace_Slag      Fly_Ash        Water  \\\n",
      "count  1030.000000         1030.000000  1030.000000  1030.000000   \n",
      "mean    281.167864           73.895825    54.188350   181.567282   \n",
      "std     104.506364           86.279342    63.997004    21.354219   \n",
      "min     102.000000            0.000000     0.000000   121.800000   \n",
      "25%     192.375000            0.000000     0.000000   164.900000   \n",
      "50%     272.900000           22.000000     0.000000   185.000000   \n",
      "75%     350.000000          142.950000   118.300000   192.000000   \n",
      "max     540.000000          359.400000   200.100000   247.000000   \n",
      "\n",
      "       Superplasticizer  Coarse_Aggregate  Fine_Aggregate      Age_day  \\\n",
      "count       1030.000000       1030.000000     1030.000000  1030.000000   \n",
      "mean           6.204660        972.918932      773.580485    45.662136   \n",
      "std            5.973841         77.753954       80.175980    63.169912   \n",
      "min            0.000000        801.000000      594.000000     1.000000   \n",
      "25%            0.000000        932.000000      730.950000     7.000000   \n",
      "50%            6.400000        968.000000      779.500000    28.000000   \n",
      "75%           10.200000       1029.400000      824.000000    56.000000   \n",
      "max           32.200000       1145.000000      992.600000   365.000000   \n",
      "\n",
      "       Concrete_compressive_strength  \n",
      "count                    1030.000000  \n",
      "mean                       35.817961  \n",
      "std                        16.705742  \n",
      "min                         2.330000  \n",
      "25%                        23.710000  \n",
      "50%                        34.445000  \n",
      "75%                        46.135000  \n",
      "max                        82.600000  \n"
     ]
    }
   ],
   "source": [
    "print(CS.describe())"
   ]
  },
  {
   "cell_type": "markdown",
   "metadata": {},
   "source": [
    "The dataset have no missing value ,  no categorical column and ranges of column are also not differ so much therefore we will not have to preprocess data"
   ]
  },
  {
   "cell_type": "markdown",
   "metadata": {},
   "source": [
    "# seperating feature variables and target variable ."
   ]
  },
  {
   "cell_type": "code",
   "execution_count": 11,
   "metadata": {},
   "outputs": [],
   "source": [
    "X=CS.drop('Concrete_compressive_strength',axis='columns')\n",
    "Y=CS['Concrete_compressive_strength']"
   ]
  },
  {
   "cell_type": "code",
   "execution_count": 14,
   "metadata": {},
   "outputs": [
    {
     "name": "stdout",
     "output_type": "stream",
     "text": [
      "Cement                0\n",
      "Blast_Furnace_Slag    0\n",
      "Fly_Ash               0\n",
      "Water                 0\n",
      "Superplasticizer      0\n",
      "Coarse_Aggregate      0\n",
      "Fine_Aggregate        0\n",
      "Age_day               0\n",
      "dtype: int64\n"
     ]
    }
   ],
   "source": [
    "print(X.isnull().sum())"
   ]
  },
  {
   "cell_type": "code",
   "execution_count": 15,
   "metadata": {},
   "outputs": [
    {
     "name": "stdout",
     "output_type": "stream",
     "text": [
      "0\n"
     ]
    }
   ],
   "source": [
    "print(Y.isnull().sum())"
   ]
  },
  {
   "cell_type": "markdown",
   "metadata": {},
   "source": [
    "All the columns of feature variable are of numerical type and no missing value ."
   ]
  },
  {
   "cell_type": "markdown",
   "metadata": {},
   "source": [
    "Target variable also have no missing value . So our dataset is ready for modelling."
   ]
  },
  {
   "cell_type": "markdown",
   "metadata": {},
   "source": [
    "# LINEAR REGRESSION"
   ]
  },
  {
   "cell_type": "code",
   "execution_count": 16,
   "metadata": {},
   "outputs": [
    {
     "name": "stdout",
     "output_type": "stream",
     "text": [
      "0.5943782479239204\n"
     ]
    }
   ],
   "source": [
    "from sklearn.linear_model import LinearRegression\n",
    "from sklearn.model_selection import train_test_split\n",
    "from sklearn.metrics import r2_score\n",
    "X_train,X_test,Y_train,Y_test=train_test_split(X,Y,test_size=0.3,random_state=42)\n",
    "lg=LinearRegression()\n",
    "lg.fit(X_train,Y_train)\n",
    "Y_pred=lg.predict(X_test)\n",
    "print(r2_score(Y_test,Y_pred))\n"
   ]
  },
  {
   "cell_type": "markdown",
   "metadata": {},
   "source": [
    "For this dataset linear regression have R-score value is .59  which is not good."
   ]
  },
  {
   "cell_type": "markdown",
   "metadata": {},
   "source": [
    "# RIDGE REGRESSION(hyperparameter tuning)"
   ]
  },
  {
   "cell_type": "code",
   "execution_count": 17,
   "metadata": {},
   "outputs": [
    {
     "name": "stdout",
     "output_type": "stream",
     "text": [
      "{'alpha': 1.0}\n",
      "0.5965781175442143\n"
     ]
    }
   ],
   "source": [
    "from sklearn.linear_model  import Ridge\n",
    "from sklearn.model_selection import GridSearchCV\n",
    "param_grid={'alpha':[0.1,0.2,0.3,0.4,0.5,0.6,0.7,0.8,0.9,1.0]}\n",
    "rg=Ridge()\n",
    "rg_cv=GridSearchCV(rg,param_grid,cv=5)\n",
    "rg_cv.fit(X_train,Y_train)\n",
    "print(rg_cv.best_params_)\n",
    "print(rg_cv.best_score_)"
   ]
  },
  {
   "cell_type": "markdown",
   "metadata": {},
   "source": [
    "R_square value  of Ridge regression is .596  with alpha is equal to 1.0"
   ]
  },
  {
   "cell_type": "markdown",
   "metadata": {},
   "source": [
    "# DECISION TREE (Hyperparameter tuning) "
   ]
  },
  {
   "cell_type": "code",
   "execution_count": 18,
   "metadata": {},
   "outputs": [
    {
     "name": "stdout",
     "output_type": "stream",
     "text": [
      "{'max_depth': 5, 'min_samples_leaf': 0.1}\n",
      "0.5251185899672892\n"
     ]
    }
   ],
   "source": [
    "from sklearn.tree import DecisionTreeRegressor\n",
    "from sklearn.model_selection import GridSearchCV\n",
    "import numpy as np\n",
    "from sklearn.metrics import r2_score\n",
    "param_dt={'max_depth':np.arange(1,50),'min_samples_leaf':[0.1,0.2,0.3,0.4,0.5]}\n",
    "dtr=DecisionTreeRegressor(random_state=42)\n",
    "dtr_cv=GridSearchCV(dtr,param_dt,cv=10)\n",
    "dtr_cv.fit(X_train,Y_train)\n",
    "y_pred=dtr_cv.predict(X_test)\n",
    "print(dtr_cv.best_params_)\n",
    "print(r2_score(Y_test,y_pred))"
   ]
  },
  {
   "cell_type": "markdown",
   "metadata": {},
   "source": [
    "R_square value of Regression decision tree is .525 with max_depth is equal to 5 and min_samples_leaf equal to 0.1"
   ]
  },
  {
   "cell_type": "markdown",
   "metadata": {},
   "source": [
    "# ENSEMBLE LEARNING(BAGGING)"
   ]
  },
  {
   "cell_type": "code",
   "execution_count": 19,
   "metadata": {},
   "outputs": [
    {
     "name": "stdout",
     "output_type": "stream",
     "text": [
      "0.6622319075977916\n"
     ]
    }
   ],
   "source": [
    "from sklearn.ensemble import BaggingRegressor\n",
    "bc=BaggingRegressor(dtr_cv,n_estimators=10,n_jobs=-1,random_state=42)\n",
    "bc.fit(X_train,Y_train)\n",
    "pred=bc.predict(X_test)\n",
    "print(r2_score(Y_test,pred))"
   ]
  },
  {
   "cell_type": "markdown",
   "metadata": {},
   "source": [
    "The R_square value of bagging classifier is 0.66 which is .14  more than the decision tree"
   ]
  },
  {
   "cell_type": "markdown",
   "metadata": {},
   "source": [
    "# Random Forest Regressor"
   ]
  },
  {
   "cell_type": "code",
   "execution_count": 34,
   "metadata": {},
   "outputs": [
    {
     "name": "stdout",
     "output_type": "stream",
     "text": [
      "0.839300899418413\n"
     ]
    }
   ],
   "source": [
    "from sklearn.ensemble import RandomForestRegressor\n",
    "from sklearn.metrics import r2_score\n",
    "Rf=RandomForestRegressor(n_estimators=400,min_samples_leaf=0.01,random_state=42)\n",
    "Rf.fit(X_train,Y_train)\n",
    "rf_pred=Rf.predict(X_test)\n",
    "print(r2_score(Y_test,rf_pred))\n"
   ]
  },
  {
   "cell_type": "markdown",
   "metadata": {},
   "source": [
    "Great we have now new Random_Forest_regressor model which have R2_scoreequal to 0.839 Which is good actually..... "
   ]
  },
  {
   "cell_type": "markdown",
   "metadata": {},
   "source": [
    "The best model for the given regression dataset is Random_Forest_Regresor having 400 trees with min_sample_leaf=0.01 as it have the highest R_square value = 0.839"
   ]
  },
  {
   "cell_type": "code",
   "execution_count": null,
   "metadata": {},
   "outputs": [],
   "source": []
  },
  {
   "cell_type": "code",
   "execution_count": null,
   "metadata": {},
   "outputs": [],
   "source": []
  }
 ],
 "metadata": {
  "kernelspec": {
   "display_name": "Python 3",
   "language": "python",
   "name": "python3"
  },
  "language_info": {
   "codemirror_mode": {
    "name": "ipython",
    "version": 3
   },
   "file_extension": ".py",
   "mimetype": "text/x-python",
   "name": "python",
   "nbconvert_exporter": "python",
   "pygments_lexer": "ipython3",
   "version": "3.6.5"
  }
 },
 "nbformat": 4,
 "nbformat_minor": 2
}
